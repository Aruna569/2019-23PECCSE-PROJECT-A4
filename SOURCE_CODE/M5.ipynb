{
 "cells": [
  {
   "cell_type": "markdown",
   "id": "2e12aef7",
   "metadata": {},
   "source": [
    "# Implementing Lasso algorithms"
   ]
  },
  {
   "cell_type": "code",
   "execution_count": 1,
   "id": "7d9c162b",
   "metadata": {},
   "outputs": [],
   "source": [
    "# Import the Libraries.\n",
    "import pandas as pd\n",
    "import numpy as np\n"
   ]
  },
  {
   "cell_type": "code",
   "execution_count": 2,
   "id": "29991d84",
   "metadata": {},
   "outputs": [],
   "source": [
    "import warnings\n",
    "warnings.filterwarnings('ignore')"
   ]
  },
  {
   "cell_type": "code",
   "execution_count": 3,
   "id": "e20ff453",
   "metadata": {},
   "outputs": [],
   "source": [
    "data = pd.read_csv('Dataset.csv')"
   ]
  },
  {
   "cell_type": "code",
   "execution_count": 4,
   "id": "22d8e4bb",
   "metadata": {},
   "outputs": [
    {
     "data": {
      "text/html": [
       "<div>\n",
       "<style scoped>\n",
       "    .dataframe tbody tr th:only-of-type {\n",
       "        vertical-align: middle;\n",
       "    }\n",
       "\n",
       "    .dataframe tbody tr th {\n",
       "        vertical-align: top;\n",
       "    }\n",
       "\n",
       "    .dataframe thead th {\n",
       "        text-align: right;\n",
       "    }\n",
       "</style>\n",
       "<table border=\"1\" class=\"dataframe\">\n",
       "  <thead>\n",
       "    <tr style=\"text-align: right;\">\n",
       "      <th></th>\n",
       "      <th>Date</th>\n",
       "      <th>Open</th>\n",
       "      <th>High</th>\n",
       "      <th>Low</th>\n",
       "      <th>Close</th>\n",
       "      <th>Adj Close</th>\n",
       "      <th>Volume</th>\n",
       "    </tr>\n",
       "  </thead>\n",
       "  <tbody>\n",
       "    <tr>\n",
       "      <th>0</th>\n",
       "      <td>28-06-2010</td>\n",
       "      <td>3.800</td>\n",
       "      <td>6.084</td>\n",
       "      <td>3.508</td>\n",
       "      <td>3.840</td>\n",
       "      <td>3.840</td>\n",
       "      <td>246560000</td>\n",
       "    </tr>\n",
       "    <tr>\n",
       "      <th>1</th>\n",
       "      <td>05-07-2010</td>\n",
       "      <td>4.000</td>\n",
       "      <td>4.000</td>\n",
       "      <td>2.996</td>\n",
       "      <td>3.480</td>\n",
       "      <td>3.480</td>\n",
       "      <td>127753000</td>\n",
       "    </tr>\n",
       "    <tr>\n",
       "      <th>2</th>\n",
       "      <td>12-07-2010</td>\n",
       "      <td>3.590</td>\n",
       "      <td>4.300</td>\n",
       "      <td>3.380</td>\n",
       "      <td>4.128</td>\n",
       "      <td>4.128</td>\n",
       "      <td>77194500</td>\n",
       "    </tr>\n",
       "    <tr>\n",
       "      <th>3</th>\n",
       "      <td>19-07-2010</td>\n",
       "      <td>4.274</td>\n",
       "      <td>4.450</td>\n",
       "      <td>3.900</td>\n",
       "      <td>4.258</td>\n",
       "      <td>4.258</td>\n",
       "      <td>35878500</td>\n",
       "    </tr>\n",
       "    <tr>\n",
       "      <th>4</th>\n",
       "      <td>26-07-2010</td>\n",
       "      <td>4.300</td>\n",
       "      <td>4.300</td>\n",
       "      <td>3.910</td>\n",
       "      <td>3.988</td>\n",
       "      <td>3.988</td>\n",
       "      <td>15260000</td>\n",
       "    </tr>\n",
       "  </tbody>\n",
       "</table>\n",
       "</div>"
      ],
      "text/plain": [
       "         Date   Open   High    Low  Close  Adj Close     Volume\n",
       "0  28-06-2010  3.800  6.084  3.508  3.840      3.840  246560000\n",
       "1  05-07-2010  4.000  4.000  2.996  3.480      3.480  127753000\n",
       "2  12-07-2010  3.590  4.300  3.380  4.128      4.128   77194500\n",
       "3  19-07-2010  4.274  4.450  3.900  4.258      4.258   35878500\n",
       "4  26-07-2010  4.300  4.300  3.910  3.988      3.988   15260000"
      ]
     },
     "execution_count": 4,
     "metadata": {},
     "output_type": "execute_result"
    }
   ],
   "source": [
    "data.head()"
   ]
  },
  {
   "cell_type": "code",
   "execution_count": 5,
   "id": "24366818",
   "metadata": {},
   "outputs": [
    {
     "data": {
      "text/plain": [
       "Index(['Date', 'Open', 'High', 'Low', 'Close', 'Adj Close', 'Volume'], dtype='object')"
      ]
     },
     "execution_count": 5,
     "metadata": {},
     "output_type": "execute_result"
    }
   ],
   "source": [
    "data.columns"
   ]
  },
  {
   "cell_type": "code",
   "execution_count": 6,
   "id": "a8e383c7",
   "metadata": {},
   "outputs": [
    {
     "name": "stdout",
     "output_type": "stream",
     "text": [
      "<class 'pandas.core.frame.DataFrame'>\n",
      "RangeIndex: 608 entries, 0 to 607\n",
      "Data columns (total 7 columns):\n",
      " #   Column     Non-Null Count  Dtype  \n",
      "---  ------     --------------  -----  \n",
      " 0   Date       608 non-null    object \n",
      " 1   Open       608 non-null    float64\n",
      " 2   High       608 non-null    float64\n",
      " 3   Low        608 non-null    float64\n",
      " 4   Close      608 non-null    float64\n",
      " 5   Adj Close  608 non-null    float64\n",
      " 6   Volume     608 non-null    int64  \n",
      "dtypes: float64(5), int64(1), object(1)\n",
      "memory usage: 33.4+ KB\n"
     ]
    }
   ],
   "source": [
    "data.info()\n"
   ]
  },
  {
   "cell_type": "code",
   "execution_count": 7,
   "id": "2b28495f",
   "metadata": {},
   "outputs": [],
   "source": [
    "df = data.dropna()"
   ]
  },
  {
   "cell_type": "code",
   "execution_count": 8,
   "id": "8e4b7df5",
   "metadata": {},
   "outputs": [
    {
     "data": {
      "text/plain": [
       "Index(['Date', 'Open', 'High', 'Low', 'Close', 'Adj Close', 'Volume'], dtype='object')"
      ]
     },
     "execution_count": 8,
     "metadata": {},
     "output_type": "execute_result"
    }
   ],
   "source": [
    "df.columns"
   ]
  },
  {
   "cell_type": "code",
   "execution_count": 9,
   "id": "97d4b845",
   "metadata": {},
   "outputs": [],
   "source": [
    "del df['Date']\n",
    "del df['Adj Close']"
   ]
  },
  {
   "cell_type": "code",
   "execution_count": 10,
   "id": "29edcc01",
   "metadata": {},
   "outputs": [
    {
     "data": {
      "text/html": [
       "<div>\n",
       "<style scoped>\n",
       "    .dataframe tbody tr th:only-of-type {\n",
       "        vertical-align: middle;\n",
       "    }\n",
       "\n",
       "    .dataframe tbody tr th {\n",
       "        vertical-align: top;\n",
       "    }\n",
       "\n",
       "    .dataframe thead th {\n",
       "        text-align: right;\n",
       "    }\n",
       "</style>\n",
       "<table border=\"1\" class=\"dataframe\">\n",
       "  <thead>\n",
       "    <tr style=\"text-align: right;\">\n",
       "      <th></th>\n",
       "      <th>Open</th>\n",
       "      <th>High</th>\n",
       "      <th>Low</th>\n",
       "      <th>Close</th>\n",
       "      <th>Volume</th>\n",
       "    </tr>\n",
       "  </thead>\n",
       "  <tbody>\n",
       "    <tr>\n",
       "      <th>0</th>\n",
       "      <td>3.800</td>\n",
       "      <td>6.084</td>\n",
       "      <td>3.508</td>\n",
       "      <td>3.840</td>\n",
       "      <td>246560000</td>\n",
       "    </tr>\n",
       "    <tr>\n",
       "      <th>1</th>\n",
       "      <td>4.000</td>\n",
       "      <td>4.000</td>\n",
       "      <td>2.996</td>\n",
       "      <td>3.480</td>\n",
       "      <td>127753000</td>\n",
       "    </tr>\n",
       "    <tr>\n",
       "      <th>2</th>\n",
       "      <td>3.590</td>\n",
       "      <td>4.300</td>\n",
       "      <td>3.380</td>\n",
       "      <td>4.128</td>\n",
       "      <td>77194500</td>\n",
       "    </tr>\n",
       "    <tr>\n",
       "      <th>3</th>\n",
       "      <td>4.274</td>\n",
       "      <td>4.450</td>\n",
       "      <td>3.900</td>\n",
       "      <td>4.258</td>\n",
       "      <td>35878500</td>\n",
       "    </tr>\n",
       "    <tr>\n",
       "      <th>4</th>\n",
       "      <td>4.300</td>\n",
       "      <td>4.300</td>\n",
       "      <td>3.910</td>\n",
       "      <td>3.988</td>\n",
       "      <td>15260000</td>\n",
       "    </tr>\n",
       "  </tbody>\n",
       "</table>\n",
       "</div>"
      ],
      "text/plain": [
       "    Open   High    Low  Close     Volume\n",
       "0  3.800  6.084  3.508  3.840  246560000\n",
       "1  4.000  4.000  2.996  3.480  127753000\n",
       "2  3.590  4.300  3.380  4.128   77194500\n",
       "3  4.274  4.450  3.900  4.258   35878500\n",
       "4  4.300  4.300  3.910  3.988   15260000"
      ]
     },
     "execution_count": 10,
     "metadata": {},
     "output_type": "execute_result"
    }
   ],
   "source": [
    "df.head()"
   ]
  },
  {
   "cell_type": "code",
   "execution_count": 11,
   "id": "e53984f3",
   "metadata": {},
   "outputs": [
    {
     "data": {
      "text/plain": [
       "(608, 5)"
      ]
     },
     "execution_count": 11,
     "metadata": {},
     "output_type": "execute_result"
    }
   ],
   "source": [
    "df.shape"
   ]
  },
  {
   "cell_type": "code",
   "execution_count": 12,
   "id": "cce59ebc",
   "metadata": {},
   "outputs": [],
   "source": [
    "# Split the test and training dataset.\n",
    "X = df.drop(labels='Close', axis=1)\n",
    "# Response variable.\n",
    "y = df.loc[:, 'Close']"
   ]
  },
  {
   "cell_type": "code",
   "execution_count": 13,
   "id": "2624806c",
   "metadata": {},
   "outputs": [],
   "source": [
    "#We'll use a test size of 30%. We also stratify the split on the response variable, which is very important to do because there are so few fraudulent transactions.\n",
    "from sklearn.model_selection import train_test_split\n",
    "X_train, X_test, y_train, y_test = train_test_split(X, y, test_size=0.3)"
   ]
  },
  {
   "cell_type": "markdown",
   "id": "f9d42a44",
   "metadata": {},
   "source": [
    "# Implementing Lasso algorithms."
   ]
  },
  {
   "cell_type": "code",
   "execution_count": 14,
   "id": "265a5a89",
   "metadata": {},
   "outputs": [],
   "source": [
    "from sklearn.linear_model import Lasso\n",
    "from sklearn.metrics import mean_absolute_error, mean_absolute_percentage_error, mean_squared_error, r2_score, explained_variance_score\n",
    "from sklearn.metrics import median_absolute_error"
   ]
  },
  {
   "cell_type": "markdown",
   "id": "d6240f62",
   "metadata": {},
   "source": [
    "Training"
   ]
  },
  {
   "cell_type": "code",
   "execution_count": 15,
   "id": "2f03bb5c",
   "metadata": {},
   "outputs": [],
   "source": [
    "LR = Lasso()\n",
    "\n",
    "LR.fit(X_train,y_train)\n",
    "\n",
    "predictLR = LR.predict(X_test)"
   ]
  },
  {
   "cell_type": "markdown",
   "id": "c300cef2",
   "metadata": {},
   "source": [
    "Find the mean absolute error"
   ]
  },
  {
   "cell_type": "code",
   "execution_count": 16,
   "id": "744bfd39",
   "metadata": {},
   "outputs": [
    {
     "name": "stdout",
     "output_type": "stream",
     "text": [
      "MEAN ABSOLUTE ERROR: 5.156236207880183\n",
      "\n"
     ]
    }
   ],
   "source": [
    "MAE = (mean_absolute_error(y_test,predictLR))\n",
    "print(\"MEAN ABSOLUTE ERROR:\", MAE)\n",
    "print('')"
   ]
  },
  {
   "cell_type": "markdown",
   "id": "7e78e629",
   "metadata": {},
   "source": [
    "Find the Mean squared error"
   ]
  },
  {
   "cell_type": "code",
   "execution_count": 17,
   "id": "bdb9f538",
   "metadata": {},
   "outputs": [
    {
     "name": "stdout",
     "output_type": "stream",
     "text": [
      "MEAN SQUARED ERROR: 199.66178867088638\n",
      "\n"
     ]
    }
   ],
   "source": [
    "MSE = (mean_squared_error(y_test,predictLR))\n",
    "print(\"MEAN SQUARED ERROR:\", MSE)\n",
    "print('')"
   ]
  },
  {
   "cell_type": "markdown",
   "id": "8fd003bd",
   "metadata": {},
   "source": [
    "Find the Mean absolute error"
   ]
  },
  {
   "cell_type": "code",
   "execution_count": 18,
   "id": "9f2ef3fc",
   "metadata": {},
   "outputs": [
    {
     "name": "stdout",
     "output_type": "stream",
     "text": [
      "MEAN ABSOLUTE PERCENTAGE ERROR : 0.07621871222246727\n",
      "\n"
     ]
    }
   ],
   "source": [
    "MAPE = (mean_absolute_percentage_error(y_test,predictLR))\n",
    "print(\"MEAN ABSOLUTE PERCENTAGE ERROR :\", MAPE)\n",
    "print('')"
   ]
  },
  {
   "cell_type": "markdown",
   "id": "92b2bb3e",
   "metadata": {},
   "source": [
    "Find the Median absolute error"
   ]
  },
  {
   "cell_type": "code",
   "execution_count": 19,
   "id": "3ae937e1",
   "metadata": {},
   "outputs": [
    {
     "name": "stdout",
     "output_type": "stream",
     "text": [
      "MEDIAN ABSOLUTE ERROR: 1.1917607384357067\n",
      "\n"
     ]
    }
   ],
   "source": [
    "MEDIAN_SE = (median_absolute_error(y_test, predictLR))\n",
    "print(\"MEDIAN ABSOLUTE ERROR:\", MEDIAN_SE)\n",
    "print('')"
   ]
  },
  {
   "cell_type": "markdown",
   "id": "059e94ec",
   "metadata": {},
   "source": [
    "Find the Accuracy of Lasso"
   ]
  },
  {
   "cell_type": "code",
   "execution_count": 20,
   "id": "88d86c1e",
   "metadata": {},
   "outputs": [
    {
     "name": "stdout",
     "output_type": "stream",
     "text": [
      "Explained varience score : 99.75457930429607\n",
      "\n"
     ]
    }
   ],
   "source": [
    "EVS = (explained_variance_score(y_test, predictLR)*100)\n",
    "print(\"Explained varience score :\", EVS)\n",
    "print('')\n"
   ]
  },
  {
   "cell_type": "markdown",
   "id": "15cdc2f3",
   "metadata": {},
   "source": [
    "Find the r2score"
   ]
  },
  {
   "cell_type": "code",
   "execution_count": 21,
   "id": "faa8233c",
   "metadata": {},
   "outputs": [
    {
     "name": "stdout",
     "output_type": "stream",
     "text": [
      "The Accuracy of Lasso: 99.74023051964012\n",
      "\n"
     ]
    }
   ],
   "source": [
    "R2_SCORE = (r2_score(y_test, predictLR)*100)\n",
    "print(\"The Accuracy of Lasso:\", R2_SCORE)\n",
    "print('')"
   ]
  },
  {
   "cell_type": "code",
   "execution_count": 22,
   "id": "0eff400e",
   "metadata": {},
   "outputs": [
    {
     "data": {
      "text/plain": [
       "['Lr.pkl']"
      ]
     },
     "execution_count": 22,
     "metadata": {},
     "output_type": "execute_result"
    }
   ],
   "source": [
    "import joblib\n",
    "joblib.dump(LR,'Lr.pkl')"
   ]
  },
  {
   "cell_type": "code",
   "execution_count": null,
   "id": "d521b8f7",
   "metadata": {},
   "outputs": [],
   "source": []
  },
  {
   "cell_type": "code",
   "execution_count": null,
   "id": "97091f5d",
   "metadata": {},
   "outputs": [],
   "source": []
  },
  {
   "cell_type": "code",
   "execution_count": null,
   "id": "5ffd9e1a",
   "metadata": {},
   "outputs": [],
   "source": []
  }
 ],
 "metadata": {
  "kernelspec": {
   "display_name": "Python 3 (ipykernel)",
   "language": "python",
   "name": "python3"
  },
  "language_info": {
   "codemirror_mode": {
    "name": "ipython",
    "version": 3
   },
   "file_extension": ".py",
   "mimetype": "text/x-python",
   "name": "python",
   "nbconvert_exporter": "python",
   "pygments_lexer": "ipython3",
   "version": "3.9.7"
  }
 },
 "nbformat": 4,
 "nbformat_minor": 5
}

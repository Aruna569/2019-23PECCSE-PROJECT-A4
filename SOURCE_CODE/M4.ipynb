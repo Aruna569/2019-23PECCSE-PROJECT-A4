{
 "cells": [
  {
   "cell_type": "markdown",
   "id": "9527387d",
   "metadata": {},
   "source": [
    "# Performance measured by Ridge Regressor."
   ]
  },
  {
   "cell_type": "code",
   "execution_count": 1,
   "id": "70849ff7",
   "metadata": {},
   "outputs": [],
   "source": [
    "import pandas as pd\n",
    "import numpy as np"
   ]
  },
  {
   "cell_type": "code",
   "execution_count": 2,
   "id": "e9f8689c",
   "metadata": {},
   "outputs": [],
   "source": [
    "import warnings\n",
    "warnings.filterwarnings('ignore')"
   ]
  },
  {
   "cell_type": "code",
   "execution_count": 3,
   "id": "a18afd35",
   "metadata": {},
   "outputs": [],
   "source": [
    "data = pd.read_csv('Dataset.csv')"
   ]
  },
  {
   "cell_type": "code",
   "execution_count": 4,
   "id": "61a5940b",
   "metadata": {},
   "outputs": [
    {
     "data": {
      "text/html": [
       "<div>\n",
       "<style scoped>\n",
       "    .dataframe tbody tr th:only-of-type {\n",
       "        vertical-align: middle;\n",
       "    }\n",
       "\n",
       "    .dataframe tbody tr th {\n",
       "        vertical-align: top;\n",
       "    }\n",
       "\n",
       "    .dataframe thead th {\n",
       "        text-align: right;\n",
       "    }\n",
       "</style>\n",
       "<table border=\"1\" class=\"dataframe\">\n",
       "  <thead>\n",
       "    <tr style=\"text-align: right;\">\n",
       "      <th></th>\n",
       "      <th>Date</th>\n",
       "      <th>Open</th>\n",
       "      <th>High</th>\n",
       "      <th>Low</th>\n",
       "      <th>Close</th>\n",
       "      <th>Adj Close</th>\n",
       "      <th>Volume</th>\n",
       "    </tr>\n",
       "  </thead>\n",
       "  <tbody>\n",
       "    <tr>\n",
       "      <th>0</th>\n",
       "      <td>28-06-2010</td>\n",
       "      <td>3.800</td>\n",
       "      <td>6.084</td>\n",
       "      <td>3.508</td>\n",
       "      <td>3.840</td>\n",
       "      <td>3.840</td>\n",
       "      <td>246560000</td>\n",
       "    </tr>\n",
       "    <tr>\n",
       "      <th>1</th>\n",
       "      <td>05-07-2010</td>\n",
       "      <td>4.000</td>\n",
       "      <td>4.000</td>\n",
       "      <td>2.996</td>\n",
       "      <td>3.480</td>\n",
       "      <td>3.480</td>\n",
       "      <td>127753000</td>\n",
       "    </tr>\n",
       "    <tr>\n",
       "      <th>2</th>\n",
       "      <td>12-07-2010</td>\n",
       "      <td>3.590</td>\n",
       "      <td>4.300</td>\n",
       "      <td>3.380</td>\n",
       "      <td>4.128</td>\n",
       "      <td>4.128</td>\n",
       "      <td>77194500</td>\n",
       "    </tr>\n",
       "    <tr>\n",
       "      <th>3</th>\n",
       "      <td>19-07-2010</td>\n",
       "      <td>4.274</td>\n",
       "      <td>4.450</td>\n",
       "      <td>3.900</td>\n",
       "      <td>4.258</td>\n",
       "      <td>4.258</td>\n",
       "      <td>35878500</td>\n",
       "    </tr>\n",
       "    <tr>\n",
       "      <th>4</th>\n",
       "      <td>26-07-2010</td>\n",
       "      <td>4.300</td>\n",
       "      <td>4.300</td>\n",
       "      <td>3.910</td>\n",
       "      <td>3.988</td>\n",
       "      <td>3.988</td>\n",
       "      <td>15260000</td>\n",
       "    </tr>\n",
       "  </tbody>\n",
       "</table>\n",
       "</div>"
      ],
      "text/plain": [
       "         Date   Open   High    Low  Close  Adj Close     Volume\n",
       "0  28-06-2010  3.800  6.084  3.508  3.840      3.840  246560000\n",
       "1  05-07-2010  4.000  4.000  2.996  3.480      3.480  127753000\n",
       "2  12-07-2010  3.590  4.300  3.380  4.128      4.128   77194500\n",
       "3  19-07-2010  4.274  4.450  3.900  4.258      4.258   35878500\n",
       "4  26-07-2010  4.300  4.300  3.910  3.988      3.988   15260000"
      ]
     },
     "execution_count": 4,
     "metadata": {},
     "output_type": "execute_result"
    }
   ],
   "source": [
    "data.head()"
   ]
  },
  {
   "cell_type": "code",
   "execution_count": 5,
   "id": "5baf9d65",
   "metadata": {},
   "outputs": [
    {
     "data": {
      "text/html": [
       "<div>\n",
       "<style scoped>\n",
       "    .dataframe tbody tr th:only-of-type {\n",
       "        vertical-align: middle;\n",
       "    }\n",
       "\n",
       "    .dataframe tbody tr th {\n",
       "        vertical-align: top;\n",
       "    }\n",
       "\n",
       "    .dataframe thead th {\n",
       "        text-align: right;\n",
       "    }\n",
       "</style>\n",
       "<table border=\"1\" class=\"dataframe\">\n",
       "  <thead>\n",
       "    <tr style=\"text-align: right;\">\n",
       "      <th></th>\n",
       "      <th>Date</th>\n",
       "      <th>Open</th>\n",
       "      <th>High</th>\n",
       "      <th>Low</th>\n",
       "      <th>Close</th>\n",
       "      <th>Adj Close</th>\n",
       "      <th>Volume</th>\n",
       "    </tr>\n",
       "  </thead>\n",
       "  <tbody>\n",
       "    <tr>\n",
       "      <th>0</th>\n",
       "      <td>28-06-2010</td>\n",
       "      <td>3.800000</td>\n",
       "      <td>6.084000</td>\n",
       "      <td>3.508000</td>\n",
       "      <td>3.840000</td>\n",
       "      <td>3.840000</td>\n",
       "      <td>246560000</td>\n",
       "    </tr>\n",
       "    <tr>\n",
       "      <th>1</th>\n",
       "      <td>05-07-2010</td>\n",
       "      <td>4.000000</td>\n",
       "      <td>4.000000</td>\n",
       "      <td>2.996000</td>\n",
       "      <td>3.480000</td>\n",
       "      <td>3.480000</td>\n",
       "      <td>127753000</td>\n",
       "    </tr>\n",
       "    <tr>\n",
       "      <th>2</th>\n",
       "      <td>12-07-2010</td>\n",
       "      <td>3.590000</td>\n",
       "      <td>4.300000</td>\n",
       "      <td>3.380000</td>\n",
       "      <td>4.128000</td>\n",
       "      <td>4.128000</td>\n",
       "      <td>77194500</td>\n",
       "    </tr>\n",
       "    <tr>\n",
       "      <th>3</th>\n",
       "      <td>19-07-2010</td>\n",
       "      <td>4.274000</td>\n",
       "      <td>4.450000</td>\n",
       "      <td>3.900000</td>\n",
       "      <td>4.258000</td>\n",
       "      <td>4.258000</td>\n",
       "      <td>35878500</td>\n",
       "    </tr>\n",
       "    <tr>\n",
       "      <th>4</th>\n",
       "      <td>26-07-2010</td>\n",
       "      <td>4.300000</td>\n",
       "      <td>4.300000</td>\n",
       "      <td>3.910000</td>\n",
       "      <td>3.988000</td>\n",
       "      <td>3.988000</td>\n",
       "      <td>15260000</td>\n",
       "    </tr>\n",
       "    <tr>\n",
       "      <th>...</th>\n",
       "      <td>...</td>\n",
       "      <td>...</td>\n",
       "      <td>...</td>\n",
       "      <td>...</td>\n",
       "      <td>...</td>\n",
       "      <td>...</td>\n",
       "      <td>...</td>\n",
       "    </tr>\n",
       "    <tr>\n",
       "      <th>603</th>\n",
       "      <td>17-01-2022</td>\n",
       "      <td>1026.609985</td>\n",
       "      <td>1070.790039</td>\n",
       "      <td>940.500000</td>\n",
       "      <td>943.900024</td>\n",
       "      <td>943.900024</td>\n",
       "      <td>105363500</td>\n",
       "    </tr>\n",
       "    <tr>\n",
       "      <th>604</th>\n",
       "      <td>24-01-2022</td>\n",
       "      <td>904.760010</td>\n",
       "      <td>987.690002</td>\n",
       "      <td>792.010010</td>\n",
       "      <td>846.349976</td>\n",
       "      <td>846.349976</td>\n",
       "      <td>208309200</td>\n",
       "    </tr>\n",
       "    <tr>\n",
       "      <th>605</th>\n",
       "      <td>31-01-2022</td>\n",
       "      <td>872.710022</td>\n",
       "      <td>943.700012</td>\n",
       "      <td>862.049988</td>\n",
       "      <td>923.320007</td>\n",
       "      <td>923.320007</td>\n",
       "      <td>132213500</td>\n",
       "    </tr>\n",
       "    <tr>\n",
       "      <th>606</th>\n",
       "      <td>07-02-2022</td>\n",
       "      <td>923.789978</td>\n",
       "      <td>947.770020</td>\n",
       "      <td>850.700012</td>\n",
       "      <td>860.000000</td>\n",
       "      <td>860.000000</td>\n",
       "      <td>103196000</td>\n",
       "    </tr>\n",
       "    <tr>\n",
       "      <th>607</th>\n",
       "      <td>14-02-2022</td>\n",
       "      <td>861.570007</td>\n",
       "      <td>898.880005</td>\n",
       "      <td>853.150024</td>\n",
       "      <td>875.760010</td>\n",
       "      <td>875.760010</td>\n",
       "      <td>22585500</td>\n",
       "    </tr>\n",
       "  </tbody>\n",
       "</table>\n",
       "<p>608 rows × 7 columns</p>\n",
       "</div>"
      ],
      "text/plain": [
       "           Date         Open         High         Low       Close   Adj Close  \\\n",
       "0    28-06-2010     3.800000     6.084000    3.508000    3.840000    3.840000   \n",
       "1    05-07-2010     4.000000     4.000000    2.996000    3.480000    3.480000   \n",
       "2    12-07-2010     3.590000     4.300000    3.380000    4.128000    4.128000   \n",
       "3    19-07-2010     4.274000     4.450000    3.900000    4.258000    4.258000   \n",
       "4    26-07-2010     4.300000     4.300000    3.910000    3.988000    3.988000   \n",
       "..          ...          ...          ...         ...         ...         ...   \n",
       "603  17-01-2022  1026.609985  1070.790039  940.500000  943.900024  943.900024   \n",
       "604  24-01-2022   904.760010   987.690002  792.010010  846.349976  846.349976   \n",
       "605  31-01-2022   872.710022   943.700012  862.049988  923.320007  923.320007   \n",
       "606  07-02-2022   923.789978   947.770020  850.700012  860.000000  860.000000   \n",
       "607  14-02-2022   861.570007   898.880005  853.150024  875.760010  875.760010   \n",
       "\n",
       "        Volume  \n",
       "0    246560000  \n",
       "1    127753000  \n",
       "2     77194500  \n",
       "3     35878500  \n",
       "4     15260000  \n",
       "..         ...  \n",
       "603  105363500  \n",
       "604  208309200  \n",
       "605  132213500  \n",
       "606  103196000  \n",
       "607   22585500  \n",
       "\n",
       "[608 rows x 7 columns]"
      ]
     },
     "execution_count": 5,
     "metadata": {},
     "output_type": "execute_result"
    }
   ],
   "source": [
    "data.drop_duplicates()"
   ]
  },
  {
   "cell_type": "code",
   "execution_count": 6,
   "id": "04b0678d",
   "metadata": {},
   "outputs": [],
   "source": [
    "df = data.dropna()"
   ]
  },
  {
   "cell_type": "code",
   "execution_count": 7,
   "id": "a331d813",
   "metadata": {},
   "outputs": [
    {
     "data": {
      "text/html": [
       "<div>\n",
       "<style scoped>\n",
       "    .dataframe tbody tr th:only-of-type {\n",
       "        vertical-align: middle;\n",
       "    }\n",
       "\n",
       "    .dataframe tbody tr th {\n",
       "        vertical-align: top;\n",
       "    }\n",
       "\n",
       "    .dataframe thead th {\n",
       "        text-align: right;\n",
       "    }\n",
       "</style>\n",
       "<table border=\"1\" class=\"dataframe\">\n",
       "  <thead>\n",
       "    <tr style=\"text-align: right;\">\n",
       "      <th></th>\n",
       "      <th>Date</th>\n",
       "      <th>Open</th>\n",
       "      <th>High</th>\n",
       "      <th>Low</th>\n",
       "      <th>Close</th>\n",
       "      <th>Adj Close</th>\n",
       "      <th>Volume</th>\n",
       "    </tr>\n",
       "  </thead>\n",
       "  <tbody>\n",
       "    <tr>\n",
       "      <th>0</th>\n",
       "      <td>28-06-2010</td>\n",
       "      <td>3.800</td>\n",
       "      <td>6.084</td>\n",
       "      <td>3.508</td>\n",
       "      <td>3.840</td>\n",
       "      <td>3.840</td>\n",
       "      <td>246560000</td>\n",
       "    </tr>\n",
       "    <tr>\n",
       "      <th>1</th>\n",
       "      <td>05-07-2010</td>\n",
       "      <td>4.000</td>\n",
       "      <td>4.000</td>\n",
       "      <td>2.996</td>\n",
       "      <td>3.480</td>\n",
       "      <td>3.480</td>\n",
       "      <td>127753000</td>\n",
       "    </tr>\n",
       "    <tr>\n",
       "      <th>2</th>\n",
       "      <td>12-07-2010</td>\n",
       "      <td>3.590</td>\n",
       "      <td>4.300</td>\n",
       "      <td>3.380</td>\n",
       "      <td>4.128</td>\n",
       "      <td>4.128</td>\n",
       "      <td>77194500</td>\n",
       "    </tr>\n",
       "    <tr>\n",
       "      <th>3</th>\n",
       "      <td>19-07-2010</td>\n",
       "      <td>4.274</td>\n",
       "      <td>4.450</td>\n",
       "      <td>3.900</td>\n",
       "      <td>4.258</td>\n",
       "      <td>4.258</td>\n",
       "      <td>35878500</td>\n",
       "    </tr>\n",
       "    <tr>\n",
       "      <th>4</th>\n",
       "      <td>26-07-2010</td>\n",
       "      <td>4.300</td>\n",
       "      <td>4.300</td>\n",
       "      <td>3.910</td>\n",
       "      <td>3.988</td>\n",
       "      <td>3.988</td>\n",
       "      <td>15260000</td>\n",
       "    </tr>\n",
       "  </tbody>\n",
       "</table>\n",
       "</div>"
      ],
      "text/plain": [
       "         Date   Open   High    Low  Close  Adj Close     Volume\n",
       "0  28-06-2010  3.800  6.084  3.508  3.840      3.840  246560000\n",
       "1  05-07-2010  4.000  4.000  2.996  3.480      3.480  127753000\n",
       "2  12-07-2010  3.590  4.300  3.380  4.128      4.128   77194500\n",
       "3  19-07-2010  4.274  4.450  3.900  4.258      4.258   35878500\n",
       "4  26-07-2010  4.300  4.300  3.910  3.988      3.988   15260000"
      ]
     },
     "execution_count": 7,
     "metadata": {},
     "output_type": "execute_result"
    }
   ],
   "source": [
    "df.head()"
   ]
  },
  {
   "cell_type": "code",
   "execution_count": 8,
   "id": "fe7e5a48",
   "metadata": {},
   "outputs": [
    {
     "data": {
      "text/html": [
       "<div>\n",
       "<style scoped>\n",
       "    .dataframe tbody tr th:only-of-type {\n",
       "        vertical-align: middle;\n",
       "    }\n",
       "\n",
       "    .dataframe tbody tr th {\n",
       "        vertical-align: top;\n",
       "    }\n",
       "\n",
       "    .dataframe thead th {\n",
       "        text-align: right;\n",
       "    }\n",
       "</style>\n",
       "<table border=\"1\" class=\"dataframe\">\n",
       "  <thead>\n",
       "    <tr style=\"text-align: right;\">\n",
       "      <th></th>\n",
       "      <th>Open</th>\n",
       "      <th>High</th>\n",
       "      <th>Low</th>\n",
       "      <th>Close</th>\n",
       "      <th>Adj Close</th>\n",
       "      <th>Volume</th>\n",
       "    </tr>\n",
       "  </thead>\n",
       "  <tbody>\n",
       "    <tr>\n",
       "      <th>count</th>\n",
       "      <td>608.000000</td>\n",
       "      <td>608.000000</td>\n",
       "      <td>608.000000</td>\n",
       "      <td>608.000000</td>\n",
       "      <td>608.000000</td>\n",
       "      <td>6.080000e+02</td>\n",
       "    </tr>\n",
       "    <tr>\n",
       "      <th>mean</th>\n",
       "      <td>131.854122</td>\n",
       "      <td>140.089835</td>\n",
       "      <td>124.765849</td>\n",
       "      <td>132.822142</td>\n",
       "      <td>132.822142</td>\n",
       "      <td>1.510910e+08</td>\n",
       "    </tr>\n",
       "    <tr>\n",
       "      <th>std</th>\n",
       "      <td>241.085132</td>\n",
       "      <td>256.121627</td>\n",
       "      <td>227.391014</td>\n",
       "      <td>242.137560</td>\n",
       "      <td>242.137560</td>\n",
       "      <td>1.210761e+08</td>\n",
       "    </tr>\n",
       "    <tr>\n",
       "      <th>min</th>\n",
       "      <td>3.590000</td>\n",
       "      <td>3.918000</td>\n",
       "      <td>2.996000</td>\n",
       "      <td>3.480000</td>\n",
       "      <td>3.480000</td>\n",
       "      <td>6.473000e+06</td>\n",
       "    </tr>\n",
       "    <tr>\n",
       "      <th>25%</th>\n",
       "      <td>19.031000</td>\n",
       "      <td>20.275500</td>\n",
       "      <td>17.390000</td>\n",
       "      <td>19.518000</td>\n",
       "      <td>19.518000</td>\n",
       "      <td>6.656125e+07</td>\n",
       "    </tr>\n",
       "    <tr>\n",
       "      <th>50%</th>\n",
       "      <td>46.310000</td>\n",
       "      <td>48.312000</td>\n",
       "      <td>44.451000</td>\n",
       "      <td>46.396999</td>\n",
       "      <td>46.396999</td>\n",
       "      <td>1.322868e+08</td>\n",
       "    </tr>\n",
       "    <tr>\n",
       "      <th>75%</th>\n",
       "      <td>67.497503</td>\n",
       "      <td>70.415001</td>\n",
       "      <td>64.464002</td>\n",
       "      <td>67.118000</td>\n",
       "      <td>67.118000</td>\n",
       "      <td>1.992209e+08</td>\n",
       "    </tr>\n",
       "    <tr>\n",
       "      <th>max</th>\n",
       "      <td>1162.329956</td>\n",
       "      <td>1243.489990</td>\n",
       "      <td>1118.660034</td>\n",
       "      <td>1222.089966</td>\n",
       "      <td>1222.089966</td>\n",
       "      <td>1.066860e+09</td>\n",
       "    </tr>\n",
       "  </tbody>\n",
       "</table>\n",
       "</div>"
      ],
      "text/plain": [
       "              Open         High          Low        Close    Adj Close  \\\n",
       "count   608.000000   608.000000   608.000000   608.000000   608.000000   \n",
       "mean    131.854122   140.089835   124.765849   132.822142   132.822142   \n",
       "std     241.085132   256.121627   227.391014   242.137560   242.137560   \n",
       "min       3.590000     3.918000     2.996000     3.480000     3.480000   \n",
       "25%      19.031000    20.275500    17.390000    19.518000    19.518000   \n",
       "50%      46.310000    48.312000    44.451000    46.396999    46.396999   \n",
       "75%      67.497503    70.415001    64.464002    67.118000    67.118000   \n",
       "max    1162.329956  1243.489990  1118.660034  1222.089966  1222.089966   \n",
       "\n",
       "             Volume  \n",
       "count  6.080000e+02  \n",
       "mean   1.510910e+08  \n",
       "std    1.210761e+08  \n",
       "min    6.473000e+06  \n",
       "25%    6.656125e+07  \n",
       "50%    1.322868e+08  \n",
       "75%    1.992209e+08  \n",
       "max    1.066860e+09  "
      ]
     },
     "execution_count": 8,
     "metadata": {},
     "output_type": "execute_result"
    }
   ],
   "source": [
    "df.describe()"
   ]
  },
  {
   "cell_type": "code",
   "execution_count": 9,
   "id": "77bec4a2",
   "metadata": {},
   "outputs": [
    {
     "data": {
      "text/plain": [
       "4256"
      ]
     },
     "execution_count": 9,
     "metadata": {},
     "output_type": "execute_result"
    }
   ],
   "source": [
    "df.size"
   ]
  },
  {
   "cell_type": "code",
   "execution_count": 10,
   "id": "678b72b0",
   "metadata": {},
   "outputs": [
    {
     "data": {
      "text/plain": [
       "Index(['Date', 'Open', 'High', 'Low', 'Close', 'Adj Close', 'Volume'], dtype='object')"
      ]
     },
     "execution_count": 10,
     "metadata": {},
     "output_type": "execute_result"
    }
   ],
   "source": [
    "df.columns"
   ]
  },
  {
   "cell_type": "code",
   "execution_count": 11,
   "id": "6fd22780",
   "metadata": {},
   "outputs": [],
   "source": [
    "del df['Date']\n",
    "del df['Adj Close']"
   ]
  },
  {
   "cell_type": "code",
   "execution_count": 12,
   "id": "fde22a2d",
   "metadata": {},
   "outputs": [
    {
     "data": {
      "text/html": [
       "<div>\n",
       "<style scoped>\n",
       "    .dataframe tbody tr th:only-of-type {\n",
       "        vertical-align: middle;\n",
       "    }\n",
       "\n",
       "    .dataframe tbody tr th {\n",
       "        vertical-align: top;\n",
       "    }\n",
       "\n",
       "    .dataframe thead th {\n",
       "        text-align: right;\n",
       "    }\n",
       "</style>\n",
       "<table border=\"1\" class=\"dataframe\">\n",
       "  <thead>\n",
       "    <tr style=\"text-align: right;\">\n",
       "      <th></th>\n",
       "      <th>Open</th>\n",
       "      <th>High</th>\n",
       "      <th>Low</th>\n",
       "      <th>Close</th>\n",
       "      <th>Volume</th>\n",
       "    </tr>\n",
       "  </thead>\n",
       "  <tbody>\n",
       "    <tr>\n",
       "      <th>0</th>\n",
       "      <td>3.800</td>\n",
       "      <td>6.084</td>\n",
       "      <td>3.508</td>\n",
       "      <td>3.840</td>\n",
       "      <td>246560000</td>\n",
       "    </tr>\n",
       "    <tr>\n",
       "      <th>1</th>\n",
       "      <td>4.000</td>\n",
       "      <td>4.000</td>\n",
       "      <td>2.996</td>\n",
       "      <td>3.480</td>\n",
       "      <td>127753000</td>\n",
       "    </tr>\n",
       "    <tr>\n",
       "      <th>2</th>\n",
       "      <td>3.590</td>\n",
       "      <td>4.300</td>\n",
       "      <td>3.380</td>\n",
       "      <td>4.128</td>\n",
       "      <td>77194500</td>\n",
       "    </tr>\n",
       "    <tr>\n",
       "      <th>3</th>\n",
       "      <td>4.274</td>\n",
       "      <td>4.450</td>\n",
       "      <td>3.900</td>\n",
       "      <td>4.258</td>\n",
       "      <td>35878500</td>\n",
       "    </tr>\n",
       "    <tr>\n",
       "      <th>4</th>\n",
       "      <td>4.300</td>\n",
       "      <td>4.300</td>\n",
       "      <td>3.910</td>\n",
       "      <td>3.988</td>\n",
       "      <td>15260000</td>\n",
       "    </tr>\n",
       "  </tbody>\n",
       "</table>\n",
       "</div>"
      ],
      "text/plain": [
       "    Open   High    Low  Close     Volume\n",
       "0  3.800  6.084  3.508  3.840  246560000\n",
       "1  4.000  4.000  2.996  3.480  127753000\n",
       "2  3.590  4.300  3.380  4.128   77194500\n",
       "3  4.274  4.450  3.900  4.258   35878500\n",
       "4  4.300  4.300  3.910  3.988   15260000"
      ]
     },
     "execution_count": 12,
     "metadata": {},
     "output_type": "execute_result"
    }
   ],
   "source": [
    "df.head()"
   ]
  },
  {
   "cell_type": "code",
   "execution_count": 13,
   "id": "d39a8438",
   "metadata": {},
   "outputs": [],
   "source": [
    "X = df.drop(labels='Close', axis=1)\n",
    "#Response variable\n",
    "y = df.loc[:,'Close']    "
   ]
  },
  {
   "cell_type": "code",
   "execution_count": 14,
   "id": "f8f50035",
   "metadata": {},
   "outputs": [],
   "source": [
    "#We'll use a test size of 30%. We also stratify the split on the response variable, which is very important to do because there are so few fraudulent transactions.\n",
    "from sklearn.model_selection import train_test_split\n",
    "X_train, X_test, y_train, y_test = train_test_split(X, y, test_size=0.3)"
   ]
  },
  {
   "cell_type": "markdown",
   "id": "af934f96",
   "metadata": {},
   "source": [
    "# Ridge Regressor."
   ]
  },
  {
   "cell_type": "code",
   "execution_count": 15,
   "id": "3bf58663",
   "metadata": {},
   "outputs": [],
   "source": [
    "from sklearn.linear_model import Ridge\n",
    "from sklearn.metrics import mean_absolute_error,mean_squared_error, median_absolute_error, mean_absolute_percentage_error,r2_score,explained_variance_score"
   ]
  },
  {
   "cell_type": "markdown",
   "id": "412f6d12",
   "metadata": {},
   "source": [
    "Training"
   ]
  },
  {
   "cell_type": "code",
   "execution_count": 16,
   "id": "d04a1c88",
   "metadata": {},
   "outputs": [],
   "source": [
    "RFT = Ridge()\n",
    "\n",
    "RFT.fit(X_train,y_train)\n",
    "\n",
    "predictR = RFT.predict(X_test)"
   ]
  },
  {
   "cell_type": "markdown",
   "id": "339d50ee",
   "metadata": {},
   "source": [
    "Find The mean absolute error."
   ]
  },
  {
   "cell_type": "code",
   "execution_count": 17,
   "id": "cd613ad7",
   "metadata": {},
   "outputs": [
    {
     "name": "stdout",
     "output_type": "stream",
     "text": [
      "MEAN ABSOLUTE ERROR : 4.000189629172735\n",
      "\n"
     ]
    }
   ],
   "source": [
    "MAE = (mean_absolute_error(y_test, predictR))\n",
    "print(\"MEAN ABSOLUTE ERROR :\", MAE)\n",
    "print(\"\")"
   ]
  },
  {
   "cell_type": "markdown",
   "id": "9ac5bb94",
   "metadata": {},
   "source": [
    "Find the mean absolute percentage error."
   ]
  },
  {
   "cell_type": "code",
   "execution_count": 18,
   "id": "7c0d5b33",
   "metadata": {},
   "outputs": [
    {
     "name": "stdout",
     "output_type": "stream",
     "text": [
      "MEAN ABSOLUTE PERCENTAGE ERROR: 0.04862851623566244\n",
      "\n"
     ]
    }
   ],
   "source": [
    "MAPE = (mean_absolute_percentage_error(y_test, predictR))\n",
    "print(\"MEAN ABSOLUTE PERCENTAGE ERROR:\", MAPE)\n",
    "print(\"\")"
   ]
  },
  {
   "cell_type": "code",
   "execution_count": 19,
   "id": "a090abe1",
   "metadata": {},
   "outputs": [],
   "source": [
    "#Find the mean squared error."
   ]
  },
  {
   "cell_type": "code",
   "execution_count": 20,
   "id": "254519ef",
   "metadata": {},
   "outputs": [
    {
     "name": "stdout",
     "output_type": "stream",
     "text": [
      "MEAN_SQUARED_ERROR: 87.95006179505839\n",
      "\n"
     ]
    }
   ],
   "source": [
    "MSE = (mean_squared_error(y_test, predictR))\n",
    "print(\"MEAN_SQUARED_ERROR:\", MSE)\n",
    "print(\"\")"
   ]
  },
  {
   "cell_type": "markdown",
   "id": "120fa6a4",
   "metadata": {},
   "source": [
    "Find the Median absolute error."
   ]
  },
  {
   "cell_type": "code",
   "execution_count": 21,
   "id": "4b4c3ed2",
   "metadata": {},
   "outputs": [
    {
     "name": "stdout",
     "output_type": "stream",
     "text": [
      "MEDIAN ABSOLUTE ERROR: 0.951971487399959\n",
      "\n"
     ]
    }
   ],
   "source": [
    "MEDIAN_AE = (median_absolute_error(y_test,predictR))\n",
    "print(\"MEDIAN ABSOLUTE ERROR:\", MEDIAN_AE)\n",
    "print(\"\")"
   ]
  },
  {
   "cell_type": "markdown",
   "id": "6055b233",
   "metadata": {},
   "source": [
    "Find the Accuracy of Ridge Regressor."
   ]
  },
  {
   "cell_type": "code",
   "execution_count": 22,
   "id": "e80f2724",
   "metadata": {},
   "outputs": [
    {
     "name": "stdout",
     "output_type": "stream",
     "text": [
      "Explained variance score: 99.82633338491216\n",
      "\n"
     ]
    }
   ],
   "source": [
    "EVS = (explained_variance_score(y_test,predictR)*100)\n",
    "print(\"Explained variance score:\", EVS)\n",
    "print(\"\")"
   ]
  },
  {
   "cell_type": "markdown",
   "id": "27babc30",
   "metadata": {},
   "source": [
    "Find the R2_score"
   ]
  },
  {
   "cell_type": "code",
   "execution_count": 23,
   "id": "027802ff",
   "metadata": {},
   "outputs": [
    {
     "name": "stdout",
     "output_type": "stream",
     "text": [
      "The Accuracy of Ridge regressor : 99.82611262743984\n",
      "\n"
     ]
    }
   ],
   "source": [
    "R2_SCORE = (r2_score(y_test, predictR)*100)\n",
    "print(\"The Accuracy of Ridge regressor :\", R2_SCORE)\n",
    "print(\"\")\n"
   ]
  },
  {
   "cell_type": "code",
   "execution_count": 24,
   "id": "c2cd87ef",
   "metadata": {},
   "outputs": [
    {
     "data": {
      "text/plain": [
       "['rft.pkl']"
      ]
     },
     "execution_count": 24,
     "metadata": {},
     "output_type": "execute_result"
    }
   ],
   "source": [
    "import joblib\n",
    "joblib.dump(RFT, 'rft.pkl')"
   ]
  },
  {
   "cell_type": "code",
   "execution_count": null,
   "id": "235b20c2",
   "metadata": {},
   "outputs": [],
   "source": []
  },
  {
   "cell_type": "code",
   "execution_count": null,
   "id": "95e5dd8a",
   "metadata": {},
   "outputs": [],
   "source": []
  },
  {
   "cell_type": "code",
   "execution_count": null,
   "id": "16efa681",
   "metadata": {},
   "outputs": [],
   "source": []
  }
 ],
 "metadata": {
  "kernelspec": {
   "display_name": "Python 3 (ipykernel)",
   "language": "python",
   "name": "python3"
  },
  "language_info": {
   "codemirror_mode": {
    "name": "ipython",
    "version": 3
   },
   "file_extension": ".py",
   "mimetype": "text/x-python",
   "name": "python",
   "nbconvert_exporter": "python",
   "pygments_lexer": "ipython3",
   "version": "3.9.7"
  }
 },
 "nbformat": 4,
 "nbformat_minor": 5
}

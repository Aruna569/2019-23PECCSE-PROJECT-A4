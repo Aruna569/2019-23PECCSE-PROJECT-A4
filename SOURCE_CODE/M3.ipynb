{
 "cells": [
  {
   "cell_type": "markdown",
   "id": "21b1f13c",
   "metadata": {},
   "source": [
    "# Performance measured in Ada boost classifier."
   ]
  },
  {
   "cell_type": "code",
   "execution_count": 1,
   "id": "3a334a61",
   "metadata": {},
   "outputs": [],
   "source": [
    "import pandas as pd\n",
    "import matplotlib.pyplot as plt\n",
    "import pandas as pd"
   ]
  },
  {
   "cell_type": "code",
   "execution_count": 2,
   "id": "bb43c512",
   "metadata": {},
   "outputs": [],
   "source": [
    "import warnings\n",
    "warnings.filterwarnings('ignore')"
   ]
  },
  {
   "cell_type": "code",
   "execution_count": 3,
   "id": "91f638be",
   "metadata": {},
   "outputs": [],
   "source": [
    "data = pd.read_csv('Dataset.csv')"
   ]
  },
  {
   "cell_type": "code",
   "execution_count": 4,
   "id": "bf14f6d1",
   "metadata": {},
   "outputs": [
    {
     "data": {
      "text/html": [
       "<div>\n",
       "<style scoped>\n",
       "    .dataframe tbody tr th:only-of-type {\n",
       "        vertical-align: middle;\n",
       "    }\n",
       "\n",
       "    .dataframe tbody tr th {\n",
       "        vertical-align: top;\n",
       "    }\n",
       "\n",
       "    .dataframe thead th {\n",
       "        text-align: right;\n",
       "    }\n",
       "</style>\n",
       "<table border=\"1\" class=\"dataframe\">\n",
       "  <thead>\n",
       "    <tr style=\"text-align: right;\">\n",
       "      <th></th>\n",
       "      <th>Date</th>\n",
       "      <th>Open</th>\n",
       "      <th>High</th>\n",
       "      <th>Low</th>\n",
       "      <th>Close</th>\n",
       "      <th>Adj Close</th>\n",
       "      <th>Volume</th>\n",
       "    </tr>\n",
       "  </thead>\n",
       "  <tbody>\n",
       "    <tr>\n",
       "      <th>0</th>\n",
       "      <td>28-06-2010</td>\n",
       "      <td>3.800</td>\n",
       "      <td>6.084</td>\n",
       "      <td>3.508</td>\n",
       "      <td>3.840</td>\n",
       "      <td>3.840</td>\n",
       "      <td>246560000</td>\n",
       "    </tr>\n",
       "    <tr>\n",
       "      <th>1</th>\n",
       "      <td>05-07-2010</td>\n",
       "      <td>4.000</td>\n",
       "      <td>4.000</td>\n",
       "      <td>2.996</td>\n",
       "      <td>3.480</td>\n",
       "      <td>3.480</td>\n",
       "      <td>127753000</td>\n",
       "    </tr>\n",
       "    <tr>\n",
       "      <th>2</th>\n",
       "      <td>12-07-2010</td>\n",
       "      <td>3.590</td>\n",
       "      <td>4.300</td>\n",
       "      <td>3.380</td>\n",
       "      <td>4.128</td>\n",
       "      <td>4.128</td>\n",
       "      <td>77194500</td>\n",
       "    </tr>\n",
       "    <tr>\n",
       "      <th>3</th>\n",
       "      <td>19-07-2010</td>\n",
       "      <td>4.274</td>\n",
       "      <td>4.450</td>\n",
       "      <td>3.900</td>\n",
       "      <td>4.258</td>\n",
       "      <td>4.258</td>\n",
       "      <td>35878500</td>\n",
       "    </tr>\n",
       "    <tr>\n",
       "      <th>4</th>\n",
       "      <td>26-07-2010</td>\n",
       "      <td>4.300</td>\n",
       "      <td>4.300</td>\n",
       "      <td>3.910</td>\n",
       "      <td>3.988</td>\n",
       "      <td>3.988</td>\n",
       "      <td>15260000</td>\n",
       "    </tr>\n",
       "  </tbody>\n",
       "</table>\n",
       "</div>"
      ],
      "text/plain": [
       "         Date   Open   High    Low  Close  Adj Close     Volume\n",
       "0  28-06-2010  3.800  6.084  3.508  3.840      3.840  246560000\n",
       "1  05-07-2010  4.000  4.000  2.996  3.480      3.480  127753000\n",
       "2  12-07-2010  3.590  4.300  3.380  4.128      4.128   77194500\n",
       "3  19-07-2010  4.274  4.450  3.900  4.258      4.258   35878500\n",
       "4  26-07-2010  4.300  4.300  3.910  3.988      3.988   15260000"
      ]
     },
     "execution_count": 4,
     "metadata": {},
     "output_type": "execute_result"
    }
   ],
   "source": [
    "data.head()"
   ]
  },
  {
   "cell_type": "code",
   "execution_count": 5,
   "id": "07a3a67b",
   "metadata": {},
   "outputs": [],
   "source": [
    "df = data.dropna()"
   ]
  },
  {
   "cell_type": "code",
   "execution_count": 6,
   "id": "6ae5f608",
   "metadata": {},
   "outputs": [
    {
     "data": {
      "text/plain": [
       "(608, 7)"
      ]
     },
     "execution_count": 6,
     "metadata": {},
     "output_type": "execute_result"
    }
   ],
   "source": [
    "df.shape"
   ]
  },
  {
   "cell_type": "code",
   "execution_count": 7,
   "id": "4700bc1b",
   "metadata": {},
   "outputs": [
    {
     "data": {
      "text/plain": [
       "array([   3.8     ,    4.      ,    3.59    ,    4.274   ,    4.3     ,\n",
       "          4.1     ,    3.98    ,    3.69    ,    3.818   ,    3.94    ,\n",
       "          4.122   ,    4.178   ,    4.134   ,    4.08    ,    4.086   ,\n",
       "          4.088   ,    4.104   ,    4.188   ,    4.388   ,    4.9     ,\n",
       "          6.044   ,    6.314   ,    7.082   ,    6.27    ,    6.328   ,\n",
       "          5.604   ,    5.368   ,    5.634   ,    5.096   ,    4.706   ,\n",
       "          4.81    ,    4.652   ,    4.728   ,    4.576   ,    4.748   ,\n",
       "          4.986   ,    4.764   ,    4.61    ,    4.54    ,    5.366   ,\n",
       "          5.294   ,    5.026   ,    5.34    ,    5.52    ,    5.4     ,\n",
       "          5.598   ,    5.524   ,    5.938   ,    6.02    ,    5.614   ,\n",
       "          5.258   ,    5.546   ,    5.804   ,    5.68    ,    5.468   ,\n",
       "          5.802   ,    5.734   ,    4.62    ,    5.324   ,    4.622   ,\n",
       "          4.844   ,    4.5     ,    4.99    ,    5.304   ,    5.462   ,\n",
       "          5.572   ,    5.574   ,    5.9     ,    6.6     ,    6.488   ,\n",
       "          6.4     ,    6.706   ,    6.088   ,    5.618   ,    5.532   ,\n",
       "          5.788   ,    5.362   ,    5.898   ,    6.22    ,    6.31    ,\n",
       "          6.974   ,    6.682   ,    6.87    ,    6.938   ,    7.052   ,\n",
       "          7.118   ,    7.466   ,    6.82    ,    6.572   ,    6.654   ,\n",
       "          6.392   ,    6.384   ,    5.516   ,    6.002   ,    5.606   ,\n",
       "          6.062   ,    5.988   ,    6.788   ,    6.188   ,    6.864   ,\n",
       "          6.21    ,    5.902   ,    5.51    ,    6.03    ,    5.914   ,\n",
       "          5.704   ,    5.84    ,    6.47    ,    5.772   ,    5.54    ,\n",
       "          5.96    ,    6.058   ,    6.414   ,    6.42    ,    6.778   ,\n",
       "          6.886   ,    6.754   ,    6.728   ,    6.96    ,    6.616   ,\n",
       "          6.912   ,    7.372   ,    7.68    ,    7.596   ,    7.472   ,\n",
       "          7.23    ,    6.954   ,    7.774   ,    7.06    ,    7.42    ,\n",
       "          8.472   ,    8.394   ,    8.7     ,    9.72    ,   10.352   ,\n",
       "         11.278   ,   16.198   ,   18.224001,   20.309999,   19.524   ,\n",
       "         19.785999,   20.719999,   19.299999,   21.872   ,   24.274   ,\n",
       "         26.606001,   23.978001,   25.864   ,   28.002001,   29.886   ,\n",
       "         28.686001,   33.029999,   34.68    ,   32.624001,   33.599998,\n",
       "         36.896   ,   37.799999,   36.492001,   35.      ,   36.655998,\n",
       "         34.035999,   33.      ,   28.200001,   27.054001,   24.9     ,\n",
       "         25.27    ,   27.4     ,   29.695999,   28.969999,   30.224001,\n",
       "         30.      ,   29.156   ,   34.248001,   35.032001,   36.577999,\n",
       "         37.868   ,   41.048   ,   41.751999,   47.452   ,   48.540001,\n",
       "         46.990002,   45.950001,   43.299999,   41.161999,   41.52    ,\n",
       "         39.416   ,   40.      ,   41.896   ,   36.773998,   38.144001,\n",
       "         41.703999,   41.466   ,   41.59    ,   41.352001,   45.902   ,\n",
       "         47.91    ,   45.5     ,   43.998001,   43.450001,   44.849998,\n",
       "         46.875999,   51.096001,   52.650002,   51.638   ,   55.099998,\n",
       "         55.523998,   54.874001,   51.      ,   48.799999,   51.826   ,\n",
       "         47.714001,   45.344002,   46.849998,   48.599998,   47.821999,\n",
       "         51.498001,   49.040001,   48.231998,   44.307999,   41.858002,\n",
       "         44.      ,   45.380001,   42.91    ,   40.610001,   38.773998,\n",
       "         40.366001,   40.793999,   43.076   ,   41.139999,   43.132   ,\n",
       "         40.540001,   38.877998,   38.400002,   39.700001,   37.169998,\n",
       "         39.599998,   42.088001,   41.355999,   44.512001,   45.636002,\n",
       "         47.257999,   49.400002,   49.535999,   50.282001,   50.169998,\n",
       "         49.939999,   52.43    ,   52.389999,   55.776001,   52.450001,\n",
       "         55.      ,   52.486   ,   53.257999,   47.630001,   51.112   ,\n",
       "         40.557999,   49.124001,   49.009998,   50.220001,   52.796001,\n",
       "         51.470001,   49.768002,   44.598   ,   45.299999,   42.276001,\n",
       "         41.784   ,   46.598   ,   41.217999,   43.470001,   46.358002,\n",
       "         45.540001,   43.501999,   46.338001,   46.298   ,   46.144001,\n",
       "         42.801998,   41.742001,   40.012001,   37.751999,   31.42    ,\n",
       "         31.74    ,   34.023998,   38.48    ,   39.535999,   42.529999,\n",
       "         47.068001,   46.321999,   49.824001,   50.200001,   50.445999,\n",
       "         50.602001,   48.299999,   43.144001,   41.630001,   43.973999,\n",
       "         44.608002,   43.599998,   43.900002,   38.172001,   41.945999,\n",
       "         43.992001,   43.928001,   44.453999,   47.099998,   45.599998,\n",
       "         45.203999,   44.834   ,   44.029999,   39.804001,   39.      ,\n",
       "         41.400002,   41.299999,   42.459999,   40.27    ,   39.41    ,\n",
       "         40.200001,   40.498001,   38.717999,   37.599998,   37.007999,\n",
       "         39.096001,   36.501999,   38.560001,   42.976002,   42.972   ,\n",
       "         45.793999,   47.34    ,   49.169998,   50.506001,   54.147999,\n",
       "         55.09    ,   49.633999,   49.582001,   48.964001,   52.119999,\n",
       "         57.380001,   61.830002,   60.540001,   61.844002,   62.976002,\n",
       "         62.18    ,   63.675999,   62.560001,   65.199997,   67.699997,\n",
       "         71.598   ,   75.      ,   77.337997,   74.047997,   62.580002,\n",
       "         65.108002,   66.047997,   67.099998,   71.470001,   72.926003,\n",
       "         69.164001,   69.456001,   70.760002,   70.269997,   76.050003,\n",
       "         70.629997,   68.503998,   69.93    ,   70.751999,   69.975998,\n",
       "         63.835999,   61.400002,   60.026001,   62.757999,   62.650002,\n",
       "         61.299999,   62.925999,   68.980003,   64.765999,   62.400002,\n",
       "         63.200001,   67.508003,   69.879997,   67.970001,   67.594002,\n",
       "         63.226002,   66.893997,   70.699997,   66.477997,   65.722   ,\n",
       "         63.299999,   61.467999,   51.251999,   60.074001,   59.799999,\n",
       "         58.257999,   58.722   ,   59.5     ,   60.664001,   56.265999,\n",
       "         55.702   ,   58.868   ,   64.501999,   71.080002,   66.024002,\n",
       "         72.014   ,   62.397999,   62.341999,   60.368   ,   59.18    ,\n",
       "         69.092003,   72.225998,   58.34    ,   63.599998,   59.388   ,\n",
       "         54.652   ,   58.007999,   59.695999,   61.153999,   52.903999,\n",
       "         51.812   ,   52.136002,   67.494003,   68.099998,   69.674004,\n",
       "         71.267998,   65.      ,   72.      ,   72.400002,   62.700001,\n",
       "         67.557999,   64.344002,   68.475998,   60.964001,   58.582001,\n",
       "         62.596001,   62.32    ,   61.312   ,   59.582001,   59.624001,\n",
       "         56.703999,   55.200001,   51.942001,   56.523998,   55.537998,\n",
       "         53.726002,   53.799999,   47.172001,   50.004002,   46.402   ,\n",
       "         40.560001,   38.240002,   37.102001,   42.049999,   43.096001,\n",
       "         44.647999,   46.042   ,   46.248001,   49.599998,   51.75    ,\n",
       "         45.417999,   45.919998,   44.841999,   42.720001,   44.816002,\n",
       "         46.      ,   49.200001,   48.      ,   45.959999,   49.580002,\n",
       "         51.666   ,   65.508003,   62.959999,   68.790001,   70.584   ,\n",
       "         68.863998,   65.879997,   67.318001,   72.510002,   82.356003,\n",
       "         85.758003,   88.094002,   98.699997,  106.050003,  108.398003,\n",
       "        134.738007,  160.      ,  168.320007,  167.800003,  142.251999,\n",
       "        121.078003,   93.900002,   86.720001,  102.052002,  102.239998,\n",
       "        118.031998,  146.539993,  147.522003,  140.199997,  158.102005,\n",
       "        165.556   ,  166.899994,  171.600006,  183.800003,  183.557999,\n",
       "        199.990005,  193.802002,  255.337997,  331.799988,  303.802002,\n",
       "        287.      ,  289.839996,  289.600006,  335.399994,  425.256012,\n",
       "        444.609985,  356.      ,  380.950012,  453.130005,  424.619995,\n",
       "        423.350006,  442.      ,  446.23999 ,  411.630005,  394.      ,\n",
       "        439.5     ,  408.929993,  503.5     ,  602.210022,  604.919983,\n",
       "        619.      ,  666.23999 ,  674.51001 ,  719.460022,  849.400024,\n",
       "        837.799988,  855.      ,  814.289978,  869.669983,  818.      ,\n",
       "        762.640015,  690.109985,  600.549988,  694.090027,  684.590027,\n",
       "        615.640015,  707.710022,  685.700012,  719.599976,  741.      ,\n",
       "        703.799988,  664.900024,  575.549988,  581.599976,  627.799988,\n",
       "        591.830017,  612.22998 ,  624.47998 ,  671.640015,  681.710022,\n",
       "        662.200012,  629.890015,  650.969971,  700.      ,  710.169983,\n",
       "        705.070007,  685.440002,  714.719971,  740.      ,  740.210022,\n",
       "        734.559998,  773.119995,  796.5     ,  787.650024,  851.789978,\n",
       "        950.530029, 1145.      , 1149.790039, 1017.630005, 1162.329956,\n",
       "       1100.98999 , 1001.51001 , 1001.090027,  910.700012, 1073.670044,\n",
       "       1147.75    , 1000.      , 1026.609985,  904.76001 ,  872.710022,\n",
       "        923.789978,  861.570007])"
      ]
     },
     "execution_count": 7,
     "metadata": {},
     "output_type": "execute_result"
    }
   ],
   "source": [
    "df['Open'].unique()"
   ]
  },
  {
   "cell_type": "code",
   "execution_count": 8,
   "id": "f036865d",
   "metadata": {},
   "outputs": [
    {
     "data": {
      "text/plain": [
       "Index(['Date', 'Open', 'High', 'Low', 'Close', 'Adj Close', 'Volume'], dtype='object')"
      ]
     },
     "execution_count": 8,
     "metadata": {},
     "output_type": "execute_result"
    }
   ],
   "source": [
    "df.columns"
   ]
  },
  {
   "cell_type": "code",
   "execution_count": 9,
   "id": "63598291",
   "metadata": {},
   "outputs": [
    {
     "data": {
      "text/plain": [
       "0      False\n",
       "1      False\n",
       "2      False\n",
       "3      False\n",
       "4      False\n",
       "       ...  \n",
       "603    False\n",
       "604    False\n",
       "605    False\n",
       "606    False\n",
       "607    False\n",
       "Length: 608, dtype: bool"
      ]
     },
     "execution_count": 9,
     "metadata": {},
     "output_type": "execute_result"
    }
   ],
   "source": [
    "df.duplicated()"
   ]
  },
  {
   "cell_type": "code",
   "execution_count": 10,
   "id": "da61ccdf",
   "metadata": {},
   "outputs": [],
   "source": [
    "\n",
    "\n",
    "# Delete the Columns.\n",
    "del df['Date']\n",
    "del df['Adj Close']\n"
   ]
  },
  {
   "cell_type": "code",
   "execution_count": 11,
   "id": "a703b922",
   "metadata": {},
   "outputs": [
    {
     "data": {
      "text/plain": [
       "Index(['Open', 'High', 'Low', 'Close', 'Volume'], dtype='object')"
      ]
     },
     "execution_count": 11,
     "metadata": {},
     "output_type": "execute_result"
    }
   ],
   "source": [
    "df.columns"
   ]
  },
  {
   "cell_type": "code",
   "execution_count": 12,
   "id": "152b0f52",
   "metadata": {},
   "outputs": [
    {
     "data": {
      "text/html": [
       "<div>\n",
       "<style scoped>\n",
       "    .dataframe tbody tr th:only-of-type {\n",
       "        vertical-align: middle;\n",
       "    }\n",
       "\n",
       "    .dataframe tbody tr th {\n",
       "        vertical-align: top;\n",
       "    }\n",
       "\n",
       "    .dataframe thead th {\n",
       "        text-align: right;\n",
       "    }\n",
       "</style>\n",
       "<table border=\"1\" class=\"dataframe\">\n",
       "  <thead>\n",
       "    <tr style=\"text-align: right;\">\n",
       "      <th></th>\n",
       "      <th>Open</th>\n",
       "      <th>High</th>\n",
       "      <th>Low</th>\n",
       "      <th>Close</th>\n",
       "      <th>Volume</th>\n",
       "    </tr>\n",
       "  </thead>\n",
       "  <tbody>\n",
       "    <tr>\n",
       "      <th>count</th>\n",
       "      <td>608.000000</td>\n",
       "      <td>608.000000</td>\n",
       "      <td>608.000000</td>\n",
       "      <td>608.000000</td>\n",
       "      <td>6.080000e+02</td>\n",
       "    </tr>\n",
       "    <tr>\n",
       "      <th>mean</th>\n",
       "      <td>131.854122</td>\n",
       "      <td>140.089835</td>\n",
       "      <td>124.765849</td>\n",
       "      <td>132.822142</td>\n",
       "      <td>1.510910e+08</td>\n",
       "    </tr>\n",
       "    <tr>\n",
       "      <th>std</th>\n",
       "      <td>241.085132</td>\n",
       "      <td>256.121627</td>\n",
       "      <td>227.391014</td>\n",
       "      <td>242.137560</td>\n",
       "      <td>1.210761e+08</td>\n",
       "    </tr>\n",
       "    <tr>\n",
       "      <th>min</th>\n",
       "      <td>3.590000</td>\n",
       "      <td>3.918000</td>\n",
       "      <td>2.996000</td>\n",
       "      <td>3.480000</td>\n",
       "      <td>6.473000e+06</td>\n",
       "    </tr>\n",
       "    <tr>\n",
       "      <th>25%</th>\n",
       "      <td>19.031000</td>\n",
       "      <td>20.275500</td>\n",
       "      <td>17.390000</td>\n",
       "      <td>19.518000</td>\n",
       "      <td>6.656125e+07</td>\n",
       "    </tr>\n",
       "    <tr>\n",
       "      <th>50%</th>\n",
       "      <td>46.310000</td>\n",
       "      <td>48.312000</td>\n",
       "      <td>44.451000</td>\n",
       "      <td>46.396999</td>\n",
       "      <td>1.322868e+08</td>\n",
       "    </tr>\n",
       "    <tr>\n",
       "      <th>75%</th>\n",
       "      <td>67.497503</td>\n",
       "      <td>70.415001</td>\n",
       "      <td>64.464002</td>\n",
       "      <td>67.118000</td>\n",
       "      <td>1.992209e+08</td>\n",
       "    </tr>\n",
       "    <tr>\n",
       "      <th>max</th>\n",
       "      <td>1162.329956</td>\n",
       "      <td>1243.489990</td>\n",
       "      <td>1118.660034</td>\n",
       "      <td>1222.089966</td>\n",
       "      <td>1.066860e+09</td>\n",
       "    </tr>\n",
       "  </tbody>\n",
       "</table>\n",
       "</div>"
      ],
      "text/plain": [
       "              Open         High          Low        Close        Volume\n",
       "count   608.000000   608.000000   608.000000   608.000000  6.080000e+02\n",
       "mean    131.854122   140.089835   124.765849   132.822142  1.510910e+08\n",
       "std     241.085132   256.121627   227.391014   242.137560  1.210761e+08\n",
       "min       3.590000     3.918000     2.996000     3.480000  6.473000e+06\n",
       "25%      19.031000    20.275500    17.390000    19.518000  6.656125e+07\n",
       "50%      46.310000    48.312000    44.451000    46.396999  1.322868e+08\n",
       "75%      67.497503    70.415001    64.464002    67.118000  1.992209e+08\n",
       "max    1162.329956  1243.489990  1118.660034  1222.089966  1.066860e+09"
      ]
     },
     "execution_count": 12,
     "metadata": {},
     "output_type": "execute_result"
    }
   ],
   "source": [
    "df.describe()"
   ]
  },
  {
   "cell_type": "code",
   "execution_count": 13,
   "id": "a57437dd",
   "metadata": {},
   "outputs": [],
   "source": [
    "X = df.drop(labels='Close', axis=1)\n",
    "#Response variable\n",
    "y = df.loc[:,'Close']    "
   ]
  },
  {
   "cell_type": "code",
   "execution_count": 14,
   "id": "6d7baeff",
   "metadata": {},
   "outputs": [],
   "source": [
    "#We'll use a test size of 30%. We also stratify the split on the response variable, which is very important to do because there are so few fraudulent transactions.\n",
    "from sklearn.model_selection import train_test_split\n",
    "X_train, X_test, y_train, y_test = train_test_split(X, y, test_size=0.3)"
   ]
  },
  {
   "cell_type": "markdown",
   "id": "02353b8b",
   "metadata": {},
   "source": [
    "# Implementing Adaboost regressor"
   ]
  },
  {
   "cell_type": "code",
   "execution_count": 15,
   "id": "68690b7a",
   "metadata": {},
   "outputs": [],
   "source": [
    "from sklearn.ensemble import AdaBoostRegressor\n",
    "from sklearn.metrics import mean_absolute_error, mean_absolute_percentage_error, explained_variance_score, r2_score, mean_squared_error\n",
    "from sklearn.metrics import median_absolute_error"
   ]
  },
  {
   "cell_type": "markdown",
   "id": "0ff73fb9",
   "metadata": {},
   "source": [
    "Training"
   ]
  },
  {
   "cell_type": "code",
   "execution_count": 16,
   "id": "9839a3a2",
   "metadata": {},
   "outputs": [],
   "source": [
    "SVR= AdaBoostRegressor()\n",
    "\n",
    "SVR.fit(X_train,y_train)\n",
    "\n",
    "predictD = SVR.predict(X_test)"
   ]
  },
  {
   "cell_type": "markdown",
   "id": "1845b950",
   "metadata": {},
   "source": [
    "Finding the mean absolute error"
   ]
  },
  {
   "cell_type": "code",
   "execution_count": 17,
   "id": "67dd1087",
   "metadata": {
    "scrolled": true
   },
   "outputs": [
    {
     "name": "stdout",
     "output_type": "stream",
     "text": [
      "MEAN_ABSOLUTE_ERROR: 19.571654473816686\n",
      "\n"
     ]
    }
   ],
   "source": [
    "MAE= (mean_absolute_error(y_test,predictD))\n",
    "print(\"MEAN_ABSOLUTE_ERROR:\", MAE)\n",
    "print(\"\")"
   ]
  },
  {
   "cell_type": "markdown",
   "id": "dcf5358e",
   "metadata": {},
   "source": [
    "Finding the mean absolute percentage error"
   ]
  },
  {
   "cell_type": "code",
   "execution_count": 18,
   "id": "318b7cd7",
   "metadata": {},
   "outputs": [
    {
     "name": "stdout",
     "output_type": "stream",
     "text": [
      "MEAN_ABSOLUTE_PERCENTAGE_ERROR: 1.6679277734615692\n",
      "\n"
     ]
    }
   ],
   "source": [
    "MAPE =(mean_absolute_percentage_error(y_test, predictD))\n",
    "print(\"MEAN_ABSOLUTE_PERCENTAGE_ERROR:\", MAPE)\n",
    "print(\"\")"
   ]
  },
  {
   "cell_type": "markdown",
   "id": "ad1ba3c5",
   "metadata": {},
   "source": [
    "Finding the Accuracy"
   ]
  },
  {
   "cell_type": "code",
   "execution_count": 19,
   "id": "b25ed765",
   "metadata": {},
   "outputs": [
    {
     "name": "stdout",
     "output_type": "stream",
     "text": [
      "ACCURACY RESULT OF ADABOOST REGRESSOR IS : 99.074087755899\n",
      "\n"
     ]
    }
   ],
   "source": [
    "EVS = (explained_variance_score(y_test, predictD)*100)\n",
    "print(\"ACCURACY RESULT OF ADABOOST REGRESSOR IS :\", EVS)\n",
    "print(\"\")"
   ]
  },
  {
   "cell_type": "markdown",
   "id": "2a785163",
   "metadata": {},
   "source": [
    "Finding the Mean squared error"
   ]
  },
  {
   "cell_type": "code",
   "execution_count": 20,
   "id": "d58ce06b",
   "metadata": {},
   "outputs": [
    {
     "name": "stdout",
     "output_type": "stream",
     "text": [
      "MEAN_SQUARED_ERROR: 611.394078453317\n",
      "\n"
     ]
    }
   ],
   "source": [
    "MSE = (mean_squared_error(y_test, predictD))\n",
    "print(\"MEAN_SQUARED_ERROR:\", MSE)\n",
    "print(\"\")"
   ]
  },
  {
   "cell_type": "markdown",
   "id": "de189244",
   "metadata": {},
   "source": [
    "Finding the Median absolute error"
   ]
  },
  {
   "cell_type": "code",
   "execution_count": 21,
   "id": "0f997de0",
   "metadata": {},
   "outputs": [
    {
     "name": "stdout",
     "output_type": "stream",
     "text": [
      "MEDIAN_ABSOLUTE_ERROR: 19.171999375000006\n",
      "\n"
     ]
    }
   ],
   "source": [
    "MEDIAN_S_E = (median_absolute_error(y_test, predictD))\n",
    "print(\"MEDIAN_ABSOLUTE_ERROR:\", MEDIAN_S_E)\n",
    "print(\"\")"
   ]
  },
  {
   "cell_type": "markdown",
   "id": "52806188",
   "metadata": {},
   "source": [
    "Finding the R2 score"
   ]
  },
  {
   "cell_type": "code",
   "execution_count": 22,
   "id": "340deb4f",
   "metadata": {},
   "outputs": [
    {
     "name": "stdout",
     "output_type": "stream",
     "text": [
      "The Accuracy of adaboost regressor: 99.06166312809103\n",
      "\n"
     ]
    }
   ],
   "source": [
    "R2 = (r2_score(y_test, predictD)*100)\n",
    "print(\"The Accuracy of adaboost regressor:\", R2)\n",
    "print(\"\")"
   ]
  },
  {
   "cell_type": "code",
   "execution_count": 23,
   "id": "dd33a2cf",
   "metadata": {},
   "outputs": [
    {
     "data": {
      "text/plain": [
       "['svr.pkl']"
      ]
     },
     "execution_count": 23,
     "metadata": {},
     "output_type": "execute_result"
    }
   ],
   "source": [
    "import joblib\n",
    "joblib.dump(SVR, 'svr.pkl')"
   ]
  },
  {
   "cell_type": "code",
   "execution_count": null,
   "id": "23c27925",
   "metadata": {},
   "outputs": [],
   "source": []
  },
  {
   "cell_type": "code",
   "execution_count": null,
   "id": "30773abf",
   "metadata": {},
   "outputs": [],
   "source": []
  },
  {
   "cell_type": "code",
   "execution_count": null,
   "id": "573981ac",
   "metadata": {},
   "outputs": [],
   "source": []
  }
 ],
 "metadata": {
  "kernelspec": {
   "display_name": "Python 3 (ipykernel)",
   "language": "python",
   "name": "python3"
  },
  "language_info": {
   "codemirror_mode": {
    "name": "ipython",
    "version": 3
   },
   "file_extension": ".py",
   "mimetype": "text/x-python",
   "name": "python",
   "nbconvert_exporter": "python",
   "pygments_lexer": "ipython3",
   "version": "3.9.7"
  },
  "vscode": {
   "interpreter": {
    "hash": "e7ae8a2097510afc72480988e89733f0b094720a2c56890993cad3f378fd2cd1"
   }
  }
 },
 "nbformat": 4,
 "nbformat_minor": 5
}
